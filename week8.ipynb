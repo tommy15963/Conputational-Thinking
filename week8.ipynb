{
  "nbformat": 4,
  "nbformat_minor": 0,
  "metadata": {
    "colab": {
      "name": "week8.ipynb",
      "provenance": [],
      "authorship_tag": "ABX9TyOvJro8XS9diSLfVbJ9hu7q",
      "include_colab_link": true
    },
    "kernelspec": {
      "name": "python3",
      "display_name": "Python 3"
    }
  },
  "cells": [
    {
      "cell_type": "markdown",
      "metadata": {
        "id": "view-in-github",
        "colab_type": "text"
      },
      "source": [
        "<a href=\"https://colab.research.google.com/github/tommy15963/Conputational-Thinking/blob/master/week8.ipynb\" target=\"_parent\"><img src=\"https://colab.research.google.com/assets/colab-badge.svg\" alt=\"Open In Colab\"/></a>"
      ]
    },
    {
      "cell_type": "code",
      "metadata": {
        "id": "YQXFTSo-4Mqe",
        "outputId": "45f91be3-5ab3-47c5-b82e-e02eab0d9588",
        "colab": {
          "base_uri": "https://localhost:8080/"
        }
      },
      "source": [
        "a = int(input(\"上衣數量\"))"
      ],
      "execution_count": 3,
      "outputs": [
        {
          "output_type": "stream",
          "text": [
            "上衣數量11\n"
          ],
          "name": "stdout"
        }
      ]
    },
    {
      "cell_type": "code",
      "metadata": {
        "id": "xdGaIg6r6YrY",
        "outputId": "96871bf2-f103-4302-a585-ac89f16c17c1",
        "colab": {
          "base_uri": "https://localhost:8080/"
        }
      },
      "source": [
        "b = int(input(\"褲子數量\"))"
      ],
      "execution_count": 4,
      "outputs": [
        {
          "output_type": "stream",
          "text": [
            "褲子數量3\n"
          ],
          "name": "stdout"
        }
      ]
    },
    {
      "cell_type": "code",
      "metadata": {
        "id": "35qdqiS76nON",
        "outputId": "5f3f3d2a-1fc8-493b-e988-e5ac4473f54a",
        "colab": {
          "base_uri": "https://localhost:8080/"
        }
      },
      "source": [
        "c = int(input(\"背心數量\"))"
      ],
      "execution_count": 5,
      "outputs": [
        {
          "output_type": "stream",
          "text": [
            "背心數量7\n"
          ],
          "name": "stdout"
        }
      ]
    },
    {
      "cell_type": "code",
      "metadata": {
        "id": "itSbKfUz6x7S",
        "outputId": "87cd669f-42f4-4789-ea6d-07971bffc273",
        "colab": {
          "base_uri": "https://localhost:8080/"
        }
      },
      "source": [
        "總金額 = a*300+b*350+c*400\n",
        "print(總金額)"
      ],
      "execution_count": 6,
      "outputs": [
        {
          "output_type": "stream",
          "text": [
            "7150\n"
          ],
          "name": "stdout"
        }
      ]
    },
    {
      "cell_type": "code",
      "metadata": {
        "id": "O944pIYO7cTe",
        "outputId": "6a519205-8959-44ff-cc20-56ee28a2960a",
        "colab": {
          "base_uri": "https://localhost:8080/"
        }
      },
      "source": [
        "m = int(input(\"購買數量\"))"
      ],
      "execution_count": 8,
      "outputs": [
        {
          "output_type": "stream",
          "text": [
            "購買數量77\n"
          ],
          "name": "stdout"
        }
      ]
    },
    {
      "cell_type": "code",
      "metadata": {
        "id": "Nc6jmCvB8YTK",
        "outputId": "36e9fb89-9f75-42eb-a893-0000590ff88f",
        "colab": {
          "base_uri": "https://localhost:8080/"
        }
      },
      "source": [
        "花費 = (m//12)*200+(m%12)*20\n",
        "print(花費)"
      ],
      "execution_count": 9,
      "outputs": [
        {
          "output_type": "stream",
          "text": [
            "1300\n"
          ],
          "name": "stdout"
        }
      ]
    },
    {
      "cell_type": "code",
      "metadata": {
        "id": "xjZjq2mM9EZr",
        "outputId": "e4ff5aa1-110d-4c5b-f99e-d59d91c26ed9",
        "colab": {
          "base_uri": "https://localhost:8080/"
        }
      },
      "source": [
        "f = int(input(\"第一次期中考成績\"))"
      ],
      "execution_count": 10,
      "outputs": [
        {
          "output_type": "stream",
          "text": [
            "第一次期中考成績90\n"
          ],
          "name": "stdout"
        }
      ]
    },
    {
      "cell_type": "code",
      "metadata": {
        "id": "vAdPv0nU9aXJ",
        "outputId": "31bda592-9d56-43bd-d370-c8ad5479d415",
        "colab": {
          "base_uri": "https://localhost:8080/"
        }
      },
      "source": [
        "s = int(input(\"第二次期中考成績\"))"
      ],
      "execution_count": 11,
      "outputs": [
        {
          "output_type": "stream",
          "text": [
            "第二次期中考成績85\n"
          ],
          "name": "stdout"
        }
      ]
    },
    {
      "cell_type": "code",
      "metadata": {
        "id": "RrZQuDxk9k0z",
        "outputId": "5786af7b-57f7-4202-97af-f1e92dabb268",
        "colab": {
          "base_uri": "https://localhost:8080/"
        }
      },
      "source": [
        "e = int(input(\"期末考成績\"))"
      ],
      "execution_count": 12,
      "outputs": [
        {
          "output_type": "stream",
          "text": [
            "期末考成績95\n"
          ],
          "name": "stdout"
        }
      ]
    },
    {
      "cell_type": "code",
      "metadata": {
        "id": "HYR7j_il93cc",
        "outputId": "de55b75a-aaf8-4468-eee2-baa58b3bd62a",
        "colab": {
          "base_uri": "https://localhost:8080/"
        }
      },
      "source": [
        "總分 = f+s+e\n",
        "print(總分)"
      ],
      "execution_count": 13,
      "outputs": [
        {
          "output_type": "stream",
          "text": [
            "270\n"
          ],
          "name": "stdout"
        }
      ]
    },
    {
      "cell_type": "code",
      "metadata": {
        "id": "GNxY4Qlk-DqV",
        "outputId": "e5d87df0-098f-4093-d97c-c4ddf4d7e438",
        "colab": {
          "base_uri": "https://localhost:8080/"
        }
      },
      "source": [
        "平均 = 總分/3\n",
        "print(平均)"
      ],
      "execution_count": 14,
      "outputs": [
        {
          "output_type": "stream",
          "text": [
            "90.0\n"
          ],
          "name": "stdout"
        }
      ]
    }
  ]
}
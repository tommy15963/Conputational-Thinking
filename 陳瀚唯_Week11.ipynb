{
  "nbformat": 4,
  "nbformat_minor": 0,
  "metadata": {
    "colab": {
      "name": "陳瀚唯-Week11.ipynb",
      "provenance": [],
      "authorship_tag": "ABX9TyNaOJAUz2CRteTfpS/L4awC",
      "include_colab_link": true
    },
    "kernelspec": {
      "name": "python3",
      "display_name": "Python 3"
    }
  },
  "cells": [
    {
      "cell_type": "markdown",
      "metadata": {
        "id": "view-in-github",
        "colab_type": "text"
      },
      "source": [
        "<a href=\"https://colab.research.google.com/github/tommy15963/Conputational-Thinking/blob/master/%E9%99%B3%E7%80%9A%E5%94%AF_Week11.ipynb\" target=\"_parent\"><img src=\"https://colab.research.google.com/assets/colab-badge.svg\" alt=\"Open In Colab\"/></a>"
      ]
    },
    {
      "cell_type": "markdown",
      "metadata": {
        "id": "nfUUsTndneLG"
      },
      "source": [
        "# 習題解答:報告分組"
      ]
    },
    {
      "cell_type": "code",
      "metadata": {
        "colab": {
          "base_uri": "https://localhost:8080/"
        },
        "id": "ocicXS69nl8k",
        "outputId": "420ce7b1-6c98-4114-afe4-dc3686a21a00"
      },
      "source": [
        "# 方法(一);商數\n",
        "## Input\n",
        "number = input(\"Enter your seat number?\")\n",
        "number = int(number)\n",
        "## Process\n",
        "group = (number - 1) // 5 + 1\n",
        "## Output\n",
        "print(\"Groups is\", group)"
      ],
      "execution_count": 5,
      "outputs": [
        {
          "output_type": "stream",
          "text": [
            "Enter your seat number?19\n",
            "Groups is 4\n"
          ],
          "name": "stdout"
        }
      ]
    }
  ]
}